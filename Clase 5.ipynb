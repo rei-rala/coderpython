{
 "cells": [
  {
   "cell_type": "markdown",
   "metadata": {},
   "source": [
    "A) Escribí un programa que lea dos números por teclado y permita elegir entre 4 opciones en un menú:\n",
    "  1. Mostrar una suma de los dos números\n",
    "  2. Mostrar una resta de los dos números (el primero menos el segundo)\n",
    "  3. Mostrar una multiplicación de los dos números\n",
    "  4. Si elige esta opción se interrumpirá la impresión del menú y el programa finalizará\n",
    "  5. En caso de no introducir una opción válida, el programa informará de que no es correcta."
   ]
  },
  {
   "cell_type": "code",
   "execution_count": 29,
   "metadata": {},
   "outputs": [
    {
     "name": "stdout",
     "output_type": "stream",
     "text": [
      "Bienvenido al programa del primer ejercicio\n",
      "\n",
      "Seleccione una opcion:\n",
      "    1. Sumar\n",
      "    2. Restar\n",
      "    3. Multiplicar\n",
      "    4. Salir\n",
      "\n",
      "La resta de 53 y 99 es -46\n",
      "Has salido.\n"
     ]
    }
   ],
   "source": [
    "# Para facilitar el ingreso mediante INPUT, verifico que el 'n' recibido sea numero entero: str no vacio '' && numerico o signo negativo + numerico\n",
    "validar_numero = lambda n: int(n) if len(n) and (n.isnumeric() or (n[0] == '-' and n[1:].isnumeric())) else validar_numero(input(\"Ingreso invalido. Digite nuevamente\\n=> \"))\n",
    "\n",
    "mostrar_suma = lambda n1, n2: print(f\"La suma de {n1} y {n2} es {n1 + n2}\")\n",
    "mostrar_resta = lambda n1, n2: print(f\"La resta de {n1} y {n2} es {n1 - n2}\")\n",
    "mostrar_multiplicacion = lambda n1, n2: print(f\"La multiplicacion entre {n1} y {n2} es {n1 * n2}\")\n",
    "salir = lambda: print(\"Has salido.\")\n",
    "\n",
    "menu = {\n",
    "    \"1\": mostrar_suma,\n",
    "    \"2\": mostrar_resta,\n",
    "    \"3\": mostrar_multiplicacion,\n",
    "    \"4\": salir\n",
    "}\n",
    "\n",
    "def iniciar_programa():\n",
    "  \"\"\"\n",
    "  Funcion que inicia el programa.\n",
    "  \"\"\"\n",
    "  \n",
    "  print('Bienvenido al programa del primer ejercicio')\n",
    "  print(\"\"\"\n",
    "Seleccione una opcion:\n",
    "    1. Sumar\n",
    "    2. Restar\n",
    "    3. Multiplicar\n",
    "    4. Salir\n",
    "\"\"\")\n",
    "  \n",
    "  eleccion = input('Ingrese opcion: ')\n",
    "  while eleccion not in menu:\n",
    "    print('Opcion incorrecta')\n",
    "    eleccion = input('Ingrese opcion: ')\n",
    "  \n",
    "  if eleccion in map(lambda n: str(n), range(1,4)):\n",
    "    args = (validar_numero(input(\"Ingrese el primer numero: \")), validar_numero(input(\"Ingrese el segundo numero: \")))\n",
    "    menu[eleccion](*args)\n",
    "    return salir()\n",
    "\n",
    "  return menu[eleccion]()\n",
    "    \n",
    "iniciar_programa()\n",
    "  "
   ]
  },
  {
   "cell_type": "markdown",
   "metadata": {},
   "source": [
    "---"
   ]
  },
  {
   "cell_type": "markdown",
   "metadata": {},
   "source": [
    "B) Escribí un programa que lea un número impar por teclado. Si el usuario no introduce un número impar, debe repetirse el proceso hasta que lo introduzca correctamente."
   ]
  },
  {
   "cell_type": "code",
   "execution_count": 24,
   "metadata": {},
   "outputs": [
    {
     "name": "stdout",
     "output_type": "stream",
     "text": [
      "Numero impar ingresado: -11100011001101001011\n"
     ]
    }
   ],
   "source": [
    "def validar_numero_impar(n:str) -> int:\n",
    "  \"\"\"\n",
    "  Comprueba que el string recibido se trate de un numero impar.\n",
    "\n",
    "  Args:\n",
    "      n (str): Recibo un string que se validara como numero impar.\n",
    "\n",
    "  Returns:\n",
    "      int: Numero impar validado\n",
    "  \"\"\"\n",
    "  # n sera numero cuando no sea un string vacio, sea numerico positivo o negativo\n",
    "  if len(n) and (n.isnumeric() or (n[0] == '-' and n[1:].isnumeric())):\n",
    "    # verificado que sea numerico, validamos que no sea cero y que sea impar\n",
    "    if int(n) != 0 and int(n)%2 != 0:\n",
    "      return int(n)\n",
    "  return validar_numero_impar(input(\"Ingreso invalido. Digite un numero impar\\n=> \"))\n",
    "\n",
    "\n",
    "impar = validar_numero_impar(input('Ingrese un numero impar\\n=> '))\n",
    "print(f'Numero impar ingresado: {impar}')\n"
   ]
  },
  {
   "cell_type": "markdown",
   "metadata": {},
   "source": [
    "---"
   ]
  },
  {
   "cell_type": "markdown",
   "metadata": {},
   "source": [
    "C) Escribí un programa que sume todos los números enteros impares desde el 0 hasta el 100"
   ]
  },
  {
   "cell_type": "code",
   "execution_count": 28,
   "metadata": {},
   "outputs": [
    {
     "name": "stdout",
     "output_type": "stream",
     "text": [
      "2500\n"
     ]
    }
   ],
   "source": [
    "suma_impares_til100 = sum(range(1,100,2))\n",
    "print(suma_impares_til100)"
   ]
  },
  {
   "cell_type": "markdown",
   "metadata": {},
   "source": [
    "---"
   ]
  },
  {
   "cell_type": "markdown",
   "metadata": {},
   "source": [
    "D) Escribí un programa que pida al usuario cuantos números quiere introducir. Luego lee todos los números y realiza una media aritmética:"
   ]
  },
  {
   "cell_type": "code",
   "execution_count": 41,
   "metadata": {},
   "outputs": [
    {
     "name": "stdout",
     "output_type": "stream",
     "text": [
      "1/5 | Ingresado: -1 | Media actual: -1.0\n",
      "2/5 | Ingresado: 99 | Media actual: 49.0\n",
      "3/5 | Ingresado: 66666 | Media actual: 22254.666666666668\n",
      "4/5 | Ingresado: 20 | Media actual: 16696.0\n",
      "5/5 | Ingresado: 1 | Media actual: 13357.0\n",
      "----- Fin del programa -----\n",
      "La media de los numeros ingresados es: 13357.0\n"
     ]
    }
   ],
   "source": [
    "# tope de ingresos(porque si?): 10\n",
    "ingresos_maximo =  10\n",
    "# Creo una lista de strings que corresponderan a los numeros del rango (facilita la comparacion con los input)\n",
    "tope_iterable = map(lambda n: str(n), range(0,ingresos_maximo+1))\n",
    "cantidad = input(f'Ingrese cantidad de numeros a ingresar. (Tope {ingresos_maximo})\\n=> ')\n",
    "elecciones = []\n",
    "media = None\n",
    "\n",
    "while cantidad not in tope_iterable:\n",
    "  print('Cantidad ingresada erronea.')\n",
    "  cantidad = input(f'Ingrese cantidad de numeros a ingresar. (Tope {ingresos_maximo})\\n=> ')\n",
    "\n",
    "cantidad = int(cantidad)\n",
    "\n",
    "for eleccion in range(cantidad):\n",
    "  elecciones.append(validar_numero(input(f'Ingrese numero {eleccion+1} de {cantidad}:\\n=> ')))\n",
    "  media = sum(elecciones)/len(elecciones)\n",
    "  print(f'{eleccion+1}/{cantidad} | Ingresado: {elecciones[eleccion]} | Media actual: {media}')\n",
    "  \n",
    "print('-'*5,'Fin del programa','-'*5)\n",
    "print(f'La media de los numeros ingresados es: {media}') if media != None else print('No se ingresaron suficientes numeros.')\n",
    "\n"
   ]
  },
  {
   "cell_type": "markdown",
   "metadata": {},
   "source": [
    "---"
   ]
  },
  {
   "cell_type": "markdown",
   "metadata": {},
   "source": [
    "E)  Escribí un programa que pida al usuario un número entero del 0 al 9, y que mientras el número no sea correcto se repita el proceso. Luego debe comprobar si el número se encuentra en la lista de números y notificarlo:"
   ]
  },
  {
   "cell_type": "code",
   "execution_count": 63,
   "metadata": {},
   "outputs": [
    {
     "name": "stdout",
     "output_type": "stream",
     "text": [
      "Hola, adivina uno de los numeros (entre el 0 y el 9)\n",
      "Ingreso invalido\n",
      "El numero 0 no esta en la lista\n",
      "El numero 2 no esta en la lista\n",
      "Correcto!\n",
      "Ingresaste 3 y la lista de numeros era [1, 3, 6, 9]\n"
     ]
    }
   ],
   "source": [
    "numeros = [1, 3, 6, 9]\n",
    "opciones_validas = list(range(0,10))\n",
    "# --------------------------------------------------\n",
    "\n",
    "print('Hola, adivina uno de los numeros (entre el 0 y el 9)')\n",
    "eleccion = validar_numero(input('Ingrese un numero: '))\n",
    "\n",
    "while (eleccion > 9 or 0 > eleccion) or eleccion not in numeros:\n",
    "  print('Ingreso invalido' if (eleccion > 9 or 0 > eleccion) else f'El numero {eleccion} no esta en la lista')\n",
    "  eleccion = validar_numero(input('Ingrese un numero: '))\n",
    "\n",
    "print(f'Correcto!\\nIngresaste {eleccion} y la lista de numeros era {numeros}')"
   ]
  },
  {
   "cell_type": "markdown",
   "metadata": {},
   "source": [
    "---"
   ]
  },
  {
   "cell_type": "markdown",
   "metadata": {},
   "source": [
    "F) Utilizando la función range() y la conversión a listas genera las siguientes listas dinámicamente:\n",
    "\n",
    "1. Todos los números del 0 al 10 [0, 1, 2, ..., 10]\n",
    "2. Todos los números del -10 al 0 [-10, -9, -8, ..., 0]\n",
    "3. Todos los números pares del 0 al 20 [0, 2, 4, ..., 20]\n",
    "4. Todos los números impares entre -20 y 0 [-19, -17, -15, ..., -1]\n",
    "5. Todos los números múltiples de 5 del 0 al 50 [0, 5, 10, ..., 50]"
   ]
  },
  {
   "cell_type": "code",
   "execution_count": 69,
   "metadata": {},
   "outputs": [
    {
     "name": "stdout",
     "output_type": "stream",
     "text": [
      "[0, 1, 2, 3, 4, 5, 6, 7, 8, 9, 10]\n",
      "[-10, -9, -8, -7, -6, -5, -4, -3, -2, -1, 0]\n",
      "[0, 2, 4, 6, 8, 10, 12, 14, 16, 18, 20]\n",
      "[-19, -17, -15, -13, -11, -9, -7, -5, -3, -1]\n",
      "[0, 5, 10, 15, 20, 25, 30, 35, 40, 45, 50]\n"
     ]
    }
   ],
   "source": [
    "pri = list(range(0, 11))\n",
    "seg = list(range(-10, 1))\n",
    "ter = list(range(0, 21, 2))\n",
    "cua = list(range(-20+1, 0, 2))\n",
    "qui = list(range(0, 51, 5))\n",
    "\n",
    "for lista in [pri, seg, ter, cua, qui]:\n",
    "    print(lista)"
   ]
  },
  {
   "cell_type": "markdown",
   "metadata": {},
   "source": []
  },
  {
   "cell_type": "markdown",
   "metadata": {},
   "source": [
    "---"
   ]
  },
  {
   "cell_type": "markdown",
   "metadata": {},
   "source": [
    "G) Dadas dos listas, debes generar una tercera con todos los elementos que se repitan en ellas, pero no debe repetirse ningún elemento en la nueva lista:"
   ]
  },
  {
   "cell_type": "code",
   "execution_count": 72,
   "metadata": {},
   "outputs": [
    {
     "name": "stdout",
     "output_type": "stream",
     "text": [
      "['o', 'l', 'h', 'n', 'u', 'a', ' ']\n"
     ]
    }
   ],
   "source": [
    "lista_1 = [\"h\",'o','l','a',' ', 'm','u','n','d','o']\n",
    "lista_2 = [\"h\",'o','l','a',' ', 'l','u','n','a']\n",
    "\n",
    "# Por cada valor X en lista_1, se agregara a la lista_3 si X se encuentra en lista_2\n",
    "coincidentes = [x for x in lista_1+lista_2 if x in lista_1 and x in lista_2]\n",
    "\n",
    "# lista_3 es una comprehension list que se pasa a set (descartar duplicados) y vuelve a ser lista para cumplir la consigna\n",
    "lista_3 = list(set(coincidentes))\n",
    "print(lista_3)\n",
    "\n",
    "# tambien podria haber sido\n",
    "# lista_3 = list(set([x for x in lista_1+lista_2 if x in lista_1 and x in lista_2]))"
   ]
  },
  {
   "cell_type": "code",
   "execution_count": 73,
   "metadata": {},
   "outputs": [
    {
     "name": "stdout",
     "output_type": "stream",
     "text": [
      "['h', 'o', 'l', 'a', ' ', 'm', 'u', 'n', 'd', 'o']\n",
      "['h', 'o', 'l', 'a', ' ', 'l', 'u', 'n', 'a']\n",
      "['h', 'o', 'l', 'a', ' ', 'u', 'n', 'o']\n"
     ]
    }
   ],
   "source": [
    "# Bonus? Ordenar Lista_3 para que la misma sea similar a sus listas de origen\n",
    "lista_3_arreglo = []\n",
    "for v in lista_1:\n",
    "  if v in lista_3: lista_3_arreglo.append(v)\n",
    "\n",
    "print(lista_1, lista_2, lista_3_arreglo, sep='\\n')"
   ]
  }
 ],
 "metadata": {
  "interpreter": {
   "hash": "c9db745a0ea2346c0ef4c1e6458d86bf596df551a4e1842a83a3444659ce7b0d"
  },
  "kernelspec": {
   "display_name": "Python 3.9.9 64-bit",
   "language": "python",
   "name": "python3"
  },
  "language_info": {
   "codemirror_mode": {
    "name": "ipython",
    "version": 3
   },
   "file_extension": ".py",
   "mimetype": "text/x-python",
   "name": "python",
   "nbconvert_exporter": "python",
   "pygments_lexer": "ipython3",
   "version": "3.9.9"
  },
  "orig_nbformat": 4
 },
 "nbformat": 4,
 "nbformat_minor": 2
}
