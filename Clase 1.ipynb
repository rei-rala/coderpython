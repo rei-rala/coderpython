{
 "cells": [
  {
   "cell_type": "markdown",
   "metadata": {},
   "source": [
    "Version copada (?)"
   ]
  },
  {
   "cell_type": "code",
   "execution_count": 1,
   "metadata": {},
   "outputs": [
    {
     "name": "stdout",
     "output_type": "stream",
     "text": [
      "Su nota final es de 7\n"
     ]
    }
   ],
   "source": [
    "notas_validas = [str(x) for x in range(11)] # ['0', '1', '2', '3', '4', '5', '6', '7', '8', '9', '10']\n",
    "validar_nota = lambda nota: int(nota) if nota in notas_validas else validar_nota(input(\"Nota inválida. Ingrese nuevamente: \"))\n",
    "\n",
    "nota_1 = validar_nota(input('Ingrese nota de primer examen: '))\n",
    "nota_2 = validar_nota(input('Ingrese nota de segundo examen: '))\n",
    "\n",
    "nota_ponderada = round(nota_1*0.4 + nota_2*0.6)\n",
    "\n",
    "print(f'Su nota final es de {nota_ponderada}')"
   ]
  },
  {
   "cell_type": "markdown",
   "metadata": {},
   "source": [
    "Version para entregable"
   ]
  },
  {
   "cell_type": "code",
   "execution_count": 2,
   "metadata": {},
   "outputs": [
    {
     "name": "stdout",
     "output_type": "stream",
     "text": [
      "Su nota final es de 7.3999999999999995\n"
     ]
    }
   ],
   "source": [
    "primera_nota = input('Ingresar primera nota: ')\n",
    "segunda_nota = input('Ingresar segunda nota: ')\n",
    "nota_final = int(primera_nota) * 0.4 + int(segunda_nota) * 0.6\n",
    "print(f'Su nota final es de {nota_final}')"
   ]
  }
 ],
 "metadata": {
  "interpreter": {
   "hash": "c9db745a0ea2346c0ef4c1e6458d86bf596df551a4e1842a83a3444659ce7b0d"
  },
  "kernelspec": {
   "display_name": "Python 3.9.9 64-bit",
   "language": "python",
   "name": "python3"
  },
  "language_info": {
   "codemirror_mode": {
    "name": "ipython",
    "version": 3
   },
   "file_extension": ".py",
   "mimetype": "text/x-python",
   "name": "python",
   "nbconvert_exporter": "python",
   "pygments_lexer": "ipython3",
   "version": "3.9.9"
  },
  "orig_nbformat": 4
 },
 "nbformat": 4,
 "nbformat_minor": 2
}
